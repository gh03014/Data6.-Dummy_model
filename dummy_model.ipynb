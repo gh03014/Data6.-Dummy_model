{
 "cells": [
  {
   "cell_type": "code",
   "execution_count": 1,
   "metadata": {},
   "outputs": [],
   "source": [
    "import pandas as pd\n",
    "import os"
   ]
  },
  {
   "cell_type": "code",
   "execution_count": 2,
   "metadata": {},
   "outputs": [],
   "source": [
    "df = pd.read_csv(\"car-good.csv\")"
   ]
  },
  {
   "cell_type": "code",
   "execution_count": 3,
   "metadata": {},
   "outputs": [],
   "source": [
    "# 특징과 라벨 분리\n",
    "X = df.drop('Class', axis = 1)\n",
    "Y = df['Class']"
   ]
  },
  {
   "cell_type": "code",
   "execution_count": 4,
   "metadata": {},
   "outputs": [],
   "source": [
    "# 학습 데이터와 평가 데이터 분리\n",
    "from sklearn.model_selection import train_test_split\n",
    "Train_X, Test_X, Train_Y, Test_Y = train_test_split(X, Y)"
   ]
  },
  {
   "cell_type": "code",
   "execution_count": 5,
   "metadata": {},
   "outputs": [
    {
     "data": {
      "text/plain": [
       "negative    630\n",
       "positive     18\n",
       "Name: Class, dtype: int64"
      ]
     },
     "execution_count": 5,
     "metadata": {},
     "output_type": "execute_result"
    }
   ],
   "source": [
    "Train_Y.value_counts()"
   ]
  },
  {
   "cell_type": "code",
   "execution_count": 6,
   "metadata": {},
   "outputs": [],
   "source": [
    "# 문자 라벨을 숫자로 치환 \n",
    "Train_Y.replace({\"negative\":-1, \"positive\":1}, inplace = True)\n",
    "Test_Y.replace({\"negative\":-1, \"positive\":1}, inplace = True)"
   ]
  },
  {
   "cell_type": "code",
   "execution_count": 7,
   "metadata": {},
   "outputs": [
    {
     "data": {
      "text/html": [
       "<div>\n",
       "<style scoped>\n",
       "    .dataframe tbody tr th:only-of-type {\n",
       "        vertical-align: middle;\n",
       "    }\n",
       "\n",
       "    .dataframe tbody tr th {\n",
       "        vertical-align: top;\n",
       "    }\n",
       "\n",
       "    .dataframe thead th {\n",
       "        text-align: right;\n",
       "    }\n",
       "</style>\n",
       "<table border=\"1\" class=\"dataframe\">\n",
       "  <thead>\n",
       "    <tr style=\"text-align: right;\">\n",
       "      <th></th>\n",
       "      <th>Buying</th>\n",
       "      <th>Maint</th>\n",
       "      <th>Doors</th>\n",
       "      <th>Persons</th>\n",
       "      <th>Lug_boot</th>\n",
       "      <th>Safety</th>\n",
       "    </tr>\n",
       "  </thead>\n",
       "  <tbody>\n",
       "    <tr>\n",
       "      <th>557</th>\n",
       "      <td>med</td>\n",
       "      <td>med</td>\n",
       "      <td>2</td>\n",
       "      <td>4</td>\n",
       "      <td>big</td>\n",
       "      <td>high</td>\n",
       "    </tr>\n",
       "    <tr>\n",
       "      <th>595</th>\n",
       "      <td>med</td>\n",
       "      <td>low</td>\n",
       "      <td>2</td>\n",
       "      <td>2</td>\n",
       "      <td>small</td>\n",
       "      <td>med</td>\n",
       "    </tr>\n",
       "    <tr>\n",
       "      <th>529</th>\n",
       "      <td>med</td>\n",
       "      <td>high</td>\n",
       "      <td>4</td>\n",
       "      <td>2</td>\n",
       "      <td>big</td>\n",
       "      <td>med</td>\n",
       "    </tr>\n",
       "    <tr>\n",
       "      <th>681</th>\n",
       "      <td>low</td>\n",
       "      <td>vhigh</td>\n",
       "      <td>3</td>\n",
       "      <td>4</td>\n",
       "      <td>big</td>\n",
       "      <td>low</td>\n",
       "    </tr>\n",
       "    <tr>\n",
       "      <th>854</th>\n",
       "      <td>low</td>\n",
       "      <td>low</td>\n",
       "      <td>4</td>\n",
       "      <td>2</td>\n",
       "      <td>big</td>\n",
       "      <td>high</td>\n",
       "    </tr>\n",
       "  </tbody>\n",
       "</table>\n",
       "</div>"
      ],
      "text/plain": [
       "    Buying  Maint  Doors  Persons Lug_boot Safety\n",
       "557    med    med      2        4      big   high\n",
       "595    med    low      2        2    small    med\n",
       "529    med   high      4        2      big    med\n",
       "681    low  vhigh      3        4      big    low\n",
       "854    low    low      4        2      big   high"
      ]
     },
     "execution_count": 7,
     "metadata": {},
     "output_type": "execute_result"
    }
   ],
   "source": [
    "Train_X.head() # Buying, Maint, Lug_boot, safety 변수가 범주형 변수로 판단됨"
   ]
  },
  {
   "cell_type": "code",
   "execution_count": 8,
   "metadata": {},
   "outputs": [
    {
     "name": "stdout",
     "output_type": "stream",
     "text": [
      "Buying 4\n",
      "Maint 4\n",
      "Doors 3\n",
      "Persons 2\n",
      "Lug_boot 3\n",
      "Safety 3\n"
     ]
    }
   ],
   "source": [
    "# 자세한 범주형 변수 판별 => 모든 변수가 범주형임을 확인\n",
    "for col in Train_X.columns:\n",
    "    print(col, len(Train_X[col].unique()))"
   ]
  },
  {
   "cell_type": "code",
   "execution_count": 9,
   "metadata": {},
   "outputs": [],
   "source": [
    "# 더미화를 이용한 범주 변수 처리\n",
    "# feature_engine는 0.6.1 버전을 설치해야 한다"
   ]
  },
  {
   "cell_type": "code",
   "execution_count": 10,
   "metadata": {},
   "outputs": [],
   "source": [
    "Train_X = Train_X.astype(str) # 모든 변수가 범주이므로, 더미화를 위해 전부 string 타입으로 변환"
   ]
  },
  {
   "cell_type": "code",
   "execution_count": 12,
   "metadata": {},
   "outputs": [],
   "source": [
    "# variables 에 더미화 대상이 되는 범주형 변수의 이름 목록을 지정한다\n",
    "# drop_last에서 한 범주변수로부터 만드는 더미 변수 중에 마지막 더미 변수를 제거할지 설정한다\n",
    "from feature_engine.categorical_encoders import OneHotCategoricalEncoder as OHE\n",
    "dummy_model = OHE(variables = Train_X.columns.tolist(),\n",
    "                 drop_last = True)\n",
    "\n",
    "dummy_model.fit(Train_X)\n",
    "\n",
    "d_Train_X = dummy_model.transform(Train_X)\n",
    "d_Test_X = dummy_model.transform(Test_X)"
   ]
  },
  {
   "cell_type": "code",
   "execution_count": 13,
   "metadata": {},
   "outputs": [
    {
     "data": {
      "text/html": [
       "<div>\n",
       "<style scoped>\n",
       "    .dataframe tbody tr th:only-of-type {\n",
       "        vertical-align: middle;\n",
       "    }\n",
       "\n",
       "    .dataframe tbody tr th {\n",
       "        vertical-align: top;\n",
       "    }\n",
       "\n",
       "    .dataframe thead th {\n",
       "        text-align: right;\n",
       "    }\n",
       "</style>\n",
       "<table border=\"1\" class=\"dataframe\">\n",
       "  <thead>\n",
       "    <tr style=\"text-align: right;\">\n",
       "      <th></th>\n",
       "      <th>Buying_med</th>\n",
       "      <th>Buying_low</th>\n",
       "      <th>Buying_high</th>\n",
       "      <th>Maint_med</th>\n",
       "      <th>Maint_low</th>\n",
       "      <th>Maint_high</th>\n",
       "      <th>Doors_2</th>\n",
       "      <th>Doors_4</th>\n",
       "      <th>Persons_4</th>\n",
       "      <th>Lug_boot_big</th>\n",
       "      <th>Lug_boot_small</th>\n",
       "      <th>Safety_high</th>\n",
       "      <th>Safety_med</th>\n",
       "    </tr>\n",
       "  </thead>\n",
       "  <tbody>\n",
       "    <tr>\n",
       "      <th>557</th>\n",
       "      <td>1</td>\n",
       "      <td>0</td>\n",
       "      <td>0</td>\n",
       "      <td>1</td>\n",
       "      <td>0</td>\n",
       "      <td>0</td>\n",
       "      <td>1</td>\n",
       "      <td>0</td>\n",
       "      <td>1</td>\n",
       "      <td>1</td>\n",
       "      <td>0</td>\n",
       "      <td>1</td>\n",
       "      <td>0</td>\n",
       "    </tr>\n",
       "    <tr>\n",
       "      <th>595</th>\n",
       "      <td>1</td>\n",
       "      <td>0</td>\n",
       "      <td>0</td>\n",
       "      <td>0</td>\n",
       "      <td>1</td>\n",
       "      <td>0</td>\n",
       "      <td>1</td>\n",
       "      <td>0</td>\n",
       "      <td>0</td>\n",
       "      <td>0</td>\n",
       "      <td>1</td>\n",
       "      <td>0</td>\n",
       "      <td>1</td>\n",
       "    </tr>\n",
       "    <tr>\n",
       "      <th>529</th>\n",
       "      <td>1</td>\n",
       "      <td>0</td>\n",
       "      <td>0</td>\n",
       "      <td>0</td>\n",
       "      <td>0</td>\n",
       "      <td>1</td>\n",
       "      <td>0</td>\n",
       "      <td>1</td>\n",
       "      <td>0</td>\n",
       "      <td>1</td>\n",
       "      <td>0</td>\n",
       "      <td>0</td>\n",
       "      <td>1</td>\n",
       "    </tr>\n",
       "    <tr>\n",
       "      <th>681</th>\n",
       "      <td>0</td>\n",
       "      <td>1</td>\n",
       "      <td>0</td>\n",
       "      <td>0</td>\n",
       "      <td>0</td>\n",
       "      <td>0</td>\n",
       "      <td>0</td>\n",
       "      <td>0</td>\n",
       "      <td>1</td>\n",
       "      <td>1</td>\n",
       "      <td>0</td>\n",
       "      <td>0</td>\n",
       "      <td>0</td>\n",
       "    </tr>\n",
       "    <tr>\n",
       "      <th>854</th>\n",
       "      <td>0</td>\n",
       "      <td>1</td>\n",
       "      <td>0</td>\n",
       "      <td>0</td>\n",
       "      <td>1</td>\n",
       "      <td>0</td>\n",
       "      <td>0</td>\n",
       "      <td>1</td>\n",
       "      <td>0</td>\n",
       "      <td>1</td>\n",
       "      <td>0</td>\n",
       "      <td>1</td>\n",
       "      <td>0</td>\n",
       "    </tr>\n",
       "  </tbody>\n",
       "</table>\n",
       "</div>"
      ],
      "text/plain": [
       "     Buying_med  Buying_low  Buying_high  Maint_med  Maint_low  Maint_high  \\\n",
       "557           1           0            0          1          0           0   \n",
       "595           1           0            0          0          1           0   \n",
       "529           1           0            0          0          0           1   \n",
       "681           0           1            0          0          0           0   \n",
       "854           0           1            0          0          1           0   \n",
       "\n",
       "     Doors_2  Doors_4  Persons_4  Lug_boot_big  Lug_boot_small  Safety_high  \\\n",
       "557        1        0          1             1               0            1   \n",
       "595        1        0          0             0               1            0   \n",
       "529        0        1          0             1               0            0   \n",
       "681        0        0          1             1               0            0   \n",
       "854        0        1          0             1               0            1   \n",
       "\n",
       "     Safety_med  \n",
       "557           0  \n",
       "595           1  \n",
       "529           1  \n",
       "681           0  \n",
       "854           0  "
      ]
     },
     "execution_count": 13,
     "metadata": {},
     "output_type": "execute_result"
    }
   ],
   "source": [
    "d_Train_X.head()"
   ]
  },
  {
   "cell_type": "code",
   "execution_count": 14,
   "metadata": {},
   "outputs": [
    {
     "data": {
      "text/plain": [
       "0.0"
      ]
     },
     "execution_count": 14,
     "metadata": {},
     "output_type": "execute_result"
    }
   ],
   "source": [
    "# 더미화를 한 뒤의 모델 테스트\n",
    "from sklearn.neighbors import KNeighborsClassifier as KNN\n",
    "model = KNN().fit(d_Train_X, Train_Y)\n",
    "pred_Y = model.predict(d_Test_X)\n",
    "\n",
    "from sklearn.metrics import f1_score\n",
    "f1_score(Test_Y, pred_Y)"
   ]
  },
  {
   "cell_type": "code",
   "execution_count": 15,
   "metadata": {},
   "outputs": [],
   "source": [
    "# 연속형 변수로 치환"
   ]
  },
  {
   "cell_type": "code",
   "execution_count": 16,
   "metadata": {},
   "outputs": [
    {
     "name": "stderr",
     "output_type": "stream",
     "text": [
      "<ipython-input-16-1de6141a08ba>:7: SettingWithCopyWarning: \n",
      "A value is trying to be set on a copy of a slice from a DataFrame.\n",
      "Try using .loc[row_indexer,col_indexer] = value instead\n",
      "\n",
      "See the caveats in the documentation: https://pandas.pydata.org/pandas-docs/stable/user_guide/indexing.html#returning-a-view-versus-a-copy\n",
      "  Test_X[col] = Test_X[col].astype(str).replace(temp_dict)\n"
     ]
    }
   ],
   "source": [
    "Train_df = pd.concat([Train_X, Train_Y], axis = 1)\n",
    "for col in Train_X.columns: # 보통은 범주 변수만 순회\n",
    "    # col에 따른 Class의 평균을 나타내는 사전 (replace를 쓰기 위해, 사전으로 만듦)\n",
    "    # key 가 컬럼이고 값이 평균값이 된다\n",
    "    temp_dict = Train_df.groupby(col)['Class'].mean().to_dict() \n",
    "    Train_df[col] = Train_df[col].replace(temp_dict) # 변수 치환\n",
    "    # 테스트 데이터도 같이 치환해줘야 함 (나중에 활용하기 위해서는 저장도 필요)\n",
    "    Test_X[col] = Test_X[col].astype(str).replace(temp_dict) "
   ]
  },
  {
   "cell_type": "code",
   "execution_count": 17,
   "metadata": {},
   "outputs": [
    {
     "data": {
      "text/html": [
       "<div>\n",
       "<style scoped>\n",
       "    .dataframe tbody tr th:only-of-type {\n",
       "        vertical-align: middle;\n",
       "    }\n",
       "\n",
       "    .dataframe tbody tr th {\n",
       "        vertical-align: top;\n",
       "    }\n",
       "\n",
       "    .dataframe thead th {\n",
       "        text-align: right;\n",
       "    }\n",
       "</style>\n",
       "<table border=\"1\" class=\"dataframe\">\n",
       "  <thead>\n",
       "    <tr style=\"text-align: right;\">\n",
       "      <th></th>\n",
       "      <th>Buying</th>\n",
       "      <th>Maint</th>\n",
       "      <th>Doors</th>\n",
       "      <th>Persons</th>\n",
       "      <th>Lug_boot</th>\n",
       "      <th>Safety</th>\n",
       "      <th>Class</th>\n",
       "    </tr>\n",
       "  </thead>\n",
       "  <tbody>\n",
       "    <tr>\n",
       "      <th>557</th>\n",
       "      <td>-0.949686</td>\n",
       "      <td>-0.929412</td>\n",
       "      <td>-0.945455</td>\n",
       "      <td>-0.891892</td>\n",
       "      <td>-0.962791</td>\n",
       "      <td>-0.896714</td>\n",
       "      <td>-1</td>\n",
       "    </tr>\n",
       "    <tr>\n",
       "      <th>595</th>\n",
       "      <td>-0.949686</td>\n",
       "      <td>-0.838926</td>\n",
       "      <td>-0.945455</td>\n",
       "      <td>-1.000000</td>\n",
       "      <td>-0.942308</td>\n",
       "      <td>-0.934884</td>\n",
       "      <td>-1</td>\n",
       "    </tr>\n",
       "    <tr>\n",
       "      <th>529</th>\n",
       "      <td>-0.949686</td>\n",
       "      <td>-1.000000</td>\n",
       "      <td>-0.943396</td>\n",
       "      <td>-1.000000</td>\n",
       "      <td>-0.962791</td>\n",
       "      <td>-0.934884</td>\n",
       "      <td>-1</td>\n",
       "    </tr>\n",
       "    <tr>\n",
       "      <th>681</th>\n",
       "      <td>-0.840000</td>\n",
       "      <td>-1.000000</td>\n",
       "      <td>-0.944444</td>\n",
       "      <td>-0.891892</td>\n",
       "      <td>-0.962791</td>\n",
       "      <td>-1.000000</td>\n",
       "      <td>-1</td>\n",
       "    </tr>\n",
       "    <tr>\n",
       "      <th>854</th>\n",
       "      <td>-0.840000</td>\n",
       "      <td>-0.838926</td>\n",
       "      <td>-0.943396</td>\n",
       "      <td>-1.000000</td>\n",
       "      <td>-0.962791</td>\n",
       "      <td>-0.896714</td>\n",
       "      <td>-1</td>\n",
       "    </tr>\n",
       "  </tbody>\n",
       "</table>\n",
       "</div>"
      ],
      "text/plain": [
       "       Buying     Maint     Doors   Persons  Lug_boot    Safety  Class\n",
       "557 -0.949686 -0.929412 -0.945455 -0.891892 -0.962791 -0.896714     -1\n",
       "595 -0.949686 -0.838926 -0.945455 -1.000000 -0.942308 -0.934884     -1\n",
       "529 -0.949686 -1.000000 -0.943396 -1.000000 -0.962791 -0.934884     -1\n",
       "681 -0.840000 -1.000000 -0.944444 -0.891892 -0.962791 -1.000000     -1\n",
       "854 -0.840000 -0.838926 -0.943396 -1.000000 -0.962791 -0.896714     -1"
      ]
     },
     "execution_count": 17,
     "metadata": {},
     "output_type": "execute_result"
    }
   ],
   "source": [
    "Train_df.head()"
   ]
  },
  {
   "cell_type": "code",
   "execution_count": 18,
   "metadata": {},
   "outputs": [],
   "source": [
    "Train_X = Train_df.drop('Class', axis = 1)\n",
    "Train_Y = Train_df['Class']"
   ]
  },
  {
   "cell_type": "code",
   "execution_count": 19,
   "metadata": {},
   "outputs": [
    {
     "data": {
      "text/plain": [
       "0.4166666666666667"
      ]
     },
     "execution_count": 19,
     "metadata": {},
     "output_type": "execute_result"
    }
   ],
   "source": [
    "# 치환한 뒤의 모델 테스트\n",
    "model = KNN().fit(Train_X, Train_Y)\n",
    "pred_Y = model.predict(Test_X)\n",
    "\n",
    "f1_score(Test_Y, pred_Y)\n",
    "\n",
    "\n",
    "# 라벨을 고려한 전처리이므로 더미화보다 좋은 결과가 나왔다 \n",
    "# 차원도 줄고 성능 상에 이점이 있으나, "
   ]
  },
  {
   "cell_type": "code",
   "execution_count": null,
   "metadata": {},
   "outputs": [],
   "source": []
  }
 ],
 "metadata": {
  "kernelspec": {
   "display_name": "Python 3",
   "language": "python",
   "name": "python3"
  },
  "language_info": {
   "codemirror_mode": {
    "name": "ipython",
    "version": 3
   },
   "file_extension": ".py",
   "mimetype": "text/x-python",
   "name": "python",
   "nbconvert_exporter": "python",
   "pygments_lexer": "ipython3",
   "version": "3.8.5"
  }
 },
 "nbformat": 4,
 "nbformat_minor": 2
}
